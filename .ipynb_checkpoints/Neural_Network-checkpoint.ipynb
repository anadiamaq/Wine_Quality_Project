{
 "cells": [
  {
   "cell_type": "code",
   "execution_count": 1,
   "metadata": {},
   "outputs": [],
   "source": [
    "import pandas as pd\n",
    "import matplotlib.pyplot as plt\n",
    "import seaborn as sns"
   ]
  },
  {
   "cell_type": "code",
   "execution_count": 2,
   "metadata": {},
   "outputs": [
    {
     "data": {
      "text/html": [
       "<div>\n",
       "<style scoped>\n",
       "    .dataframe tbody tr th:only-of-type {\n",
       "        vertical-align: middle;\n",
       "    }\n",
       "\n",
       "    .dataframe tbody tr th {\n",
       "        vertical-align: top;\n",
       "    }\n",
       "\n",
       "    .dataframe thead th {\n",
       "        text-align: right;\n",
       "    }\n",
       "</style>\n",
       "<table border=\"1\" class=\"dataframe\">\n",
       "  <thead>\n",
       "    <tr style=\"text-align: right;\">\n",
       "      <th></th>\n",
       "      <th>alcohol</th>\n",
       "      <th>chlorides</th>\n",
       "      <th>citric_acid</th>\n",
       "      <th>density</th>\n",
       "      <th>fixed_acidity</th>\n",
       "      <th>free_sulfur_dioxide</th>\n",
       "      <th>pH</th>\n",
       "      <th>quality</th>\n",
       "      <th>residual_sugar</th>\n",
       "      <th>sulphates</th>\n",
       "      <th>total_sulfur_dioxide</th>\n",
       "      <th>type</th>\n",
       "      <th>volatile_acidity</th>\n",
       "    </tr>\n",
       "  </thead>\n",
       "  <tbody>\n",
       "    <tr>\n",
       "      <th>0</th>\n",
       "      <td>9.4</td>\n",
       "      <td>0.076</td>\n",
       "      <td>0.00</td>\n",
       "      <td>0.9978</td>\n",
       "      <td>7.4</td>\n",
       "      <td>11.0</td>\n",
       "      <td>3.51</td>\n",
       "      <td>5</td>\n",
       "      <td>1.9</td>\n",
       "      <td>0.56</td>\n",
       "      <td>34.0</td>\n",
       "      <td>red</td>\n",
       "      <td>0.70</td>\n",
       "    </tr>\n",
       "    <tr>\n",
       "      <th>1</th>\n",
       "      <td>9.8</td>\n",
       "      <td>0.098</td>\n",
       "      <td>0.00</td>\n",
       "      <td>0.9968</td>\n",
       "      <td>7.8</td>\n",
       "      <td>25.0</td>\n",
       "      <td>3.20</td>\n",
       "      <td>5</td>\n",
       "      <td>2.6</td>\n",
       "      <td>0.68</td>\n",
       "      <td>67.0</td>\n",
       "      <td>red</td>\n",
       "      <td>0.88</td>\n",
       "    </tr>\n",
       "    <tr>\n",
       "      <th>2</th>\n",
       "      <td>9.8</td>\n",
       "      <td>0.092</td>\n",
       "      <td>0.04</td>\n",
       "      <td>0.9970</td>\n",
       "      <td>7.8</td>\n",
       "      <td>15.0</td>\n",
       "      <td>3.26</td>\n",
       "      <td>5</td>\n",
       "      <td>2.3</td>\n",
       "      <td>0.65</td>\n",
       "      <td>54.0</td>\n",
       "      <td>red</td>\n",
       "      <td>0.76</td>\n",
       "    </tr>\n",
       "    <tr>\n",
       "      <th>3</th>\n",
       "      <td>9.8</td>\n",
       "      <td>0.075</td>\n",
       "      <td>0.56</td>\n",
       "      <td>0.9980</td>\n",
       "      <td>11.2</td>\n",
       "      <td>17.0</td>\n",
       "      <td>3.16</td>\n",
       "      <td>6</td>\n",
       "      <td>1.9</td>\n",
       "      <td>0.58</td>\n",
       "      <td>60.0</td>\n",
       "      <td>red</td>\n",
       "      <td>0.28</td>\n",
       "    </tr>\n",
       "    <tr>\n",
       "      <th>4</th>\n",
       "      <td>9.4</td>\n",
       "      <td>0.076</td>\n",
       "      <td>0.00</td>\n",
       "      <td>0.9978</td>\n",
       "      <td>7.4</td>\n",
       "      <td>11.0</td>\n",
       "      <td>3.51</td>\n",
       "      <td>5</td>\n",
       "      <td>1.9</td>\n",
       "      <td>0.56</td>\n",
       "      <td>34.0</td>\n",
       "      <td>red</td>\n",
       "      <td>0.70</td>\n",
       "    </tr>\n",
       "  </tbody>\n",
       "</table>\n",
       "</div>"
      ],
      "text/plain": [
       "   alcohol  chlorides  citric_acid  density  fixed_acidity  \\\n",
       "0      9.4      0.076         0.00   0.9978            7.4   \n",
       "1      9.8      0.098         0.00   0.9968            7.8   \n",
       "2      9.8      0.092         0.04   0.9970            7.8   \n",
       "3      9.8      0.075         0.56   0.9980           11.2   \n",
       "4      9.4      0.076         0.00   0.9978            7.4   \n",
       "\n",
       "   free_sulfur_dioxide    pH  quality  residual_sugar  sulphates  \\\n",
       "0                 11.0  3.51        5             1.9       0.56   \n",
       "1                 25.0  3.20        5             2.6       0.68   \n",
       "2                 15.0  3.26        5             2.3       0.65   \n",
       "3                 17.0  3.16        6             1.9       0.58   \n",
       "4                 11.0  3.51        5             1.9       0.56   \n",
       "\n",
       "   total_sulfur_dioxide type  volatile_acidity  \n",
       "0                  34.0  red              0.70  \n",
       "1                  67.0  red              0.88  \n",
       "2                  54.0  red              0.76  \n",
       "3                  60.0  red              0.28  \n",
       "4                  34.0  red              0.70  "
      ]
     },
     "execution_count": 2,
     "metadata": {},
     "output_type": "execute_result"
    }
   ],
   "source": [
    "wine_qa = pd.read_csv('data/wine-qa.csv')\n",
    "wine_qa.head()"
   ]
  },
  {
   "cell_type": "code",
   "execution_count": 3,
   "metadata": {},
   "outputs": [
    {
     "data": {
      "text/html": [
       "<div>\n",
       "<style scoped>\n",
       "    .dataframe tbody tr th:only-of-type {\n",
       "        vertical-align: middle;\n",
       "    }\n",
       "\n",
       "    .dataframe tbody tr th {\n",
       "        vertical-align: top;\n",
       "    }\n",
       "\n",
       "    .dataframe thead th {\n",
       "        text-align: right;\n",
       "    }\n",
       "</style>\n",
       "<table border=\"1\" class=\"dataframe\">\n",
       "  <thead>\n",
       "    <tr style=\"text-align: right;\">\n",
       "      <th></th>\n",
       "      <th>alcohol</th>\n",
       "      <th>chlorides</th>\n",
       "      <th>citric_acid</th>\n",
       "      <th>density</th>\n",
       "      <th>fixed_acidity</th>\n",
       "      <th>free_sulfur_dioxide</th>\n",
       "      <th>pH</th>\n",
       "      <th>quality</th>\n",
       "      <th>residual_sugar</th>\n",
       "      <th>sulphates</th>\n",
       "      <th>total_sulfur_dioxide</th>\n",
       "      <th>volatile_acidity</th>\n",
       "    </tr>\n",
       "  </thead>\n",
       "  <tbody>\n",
       "    <tr>\n",
       "      <th>count</th>\n",
       "      <td>6497.000000</td>\n",
       "      <td>6497.000000</td>\n",
       "      <td>6497.000000</td>\n",
       "      <td>6497.000000</td>\n",
       "      <td>6497.000000</td>\n",
       "      <td>6497.000000</td>\n",
       "      <td>6497.000000</td>\n",
       "      <td>6497.000000</td>\n",
       "      <td>6497.000000</td>\n",
       "      <td>6497.000000</td>\n",
       "      <td>6497.000000</td>\n",
       "      <td>6497.000000</td>\n",
       "    </tr>\n",
       "    <tr>\n",
       "      <th>mean</th>\n",
       "      <td>10.491801</td>\n",
       "      <td>0.056034</td>\n",
       "      <td>0.318633</td>\n",
       "      <td>0.994697</td>\n",
       "      <td>7.215307</td>\n",
       "      <td>30.525319</td>\n",
       "      <td>3.218501</td>\n",
       "      <td>5.818378</td>\n",
       "      <td>5.443235</td>\n",
       "      <td>0.531268</td>\n",
       "      <td>115.744574</td>\n",
       "      <td>0.339666</td>\n",
       "    </tr>\n",
       "    <tr>\n",
       "      <th>std</th>\n",
       "      <td>1.192712</td>\n",
       "      <td>0.035034</td>\n",
       "      <td>0.145318</td>\n",
       "      <td>0.002999</td>\n",
       "      <td>1.296434</td>\n",
       "      <td>17.749400</td>\n",
       "      <td>0.160787</td>\n",
       "      <td>0.873255</td>\n",
       "      <td>4.757804</td>\n",
       "      <td>0.148806</td>\n",
       "      <td>56.521855</td>\n",
       "      <td>0.164636</td>\n",
       "    </tr>\n",
       "    <tr>\n",
       "      <th>min</th>\n",
       "      <td>8.000000</td>\n",
       "      <td>0.009000</td>\n",
       "      <td>0.000000</td>\n",
       "      <td>0.987110</td>\n",
       "      <td>3.800000</td>\n",
       "      <td>1.000000</td>\n",
       "      <td>2.720000</td>\n",
       "      <td>3.000000</td>\n",
       "      <td>0.600000</td>\n",
       "      <td>0.220000</td>\n",
       "      <td>6.000000</td>\n",
       "      <td>0.080000</td>\n",
       "    </tr>\n",
       "    <tr>\n",
       "      <th>25%</th>\n",
       "      <td>9.500000</td>\n",
       "      <td>0.038000</td>\n",
       "      <td>0.250000</td>\n",
       "      <td>0.992340</td>\n",
       "      <td>6.400000</td>\n",
       "      <td>17.000000</td>\n",
       "      <td>3.110000</td>\n",
       "      <td>5.000000</td>\n",
       "      <td>1.800000</td>\n",
       "      <td>0.430000</td>\n",
       "      <td>77.000000</td>\n",
       "      <td>0.230000</td>\n",
       "    </tr>\n",
       "    <tr>\n",
       "      <th>50%</th>\n",
       "      <td>10.300000</td>\n",
       "      <td>0.047000</td>\n",
       "      <td>0.310000</td>\n",
       "      <td>0.994890</td>\n",
       "      <td>7.000000</td>\n",
       "      <td>29.000000</td>\n",
       "      <td>3.210000</td>\n",
       "      <td>6.000000</td>\n",
       "      <td>3.000000</td>\n",
       "      <td>0.510000</td>\n",
       "      <td>118.000000</td>\n",
       "      <td>0.290000</td>\n",
       "    </tr>\n",
       "    <tr>\n",
       "      <th>75%</th>\n",
       "      <td>11.300000</td>\n",
       "      <td>0.065000</td>\n",
       "      <td>0.390000</td>\n",
       "      <td>0.996990</td>\n",
       "      <td>7.700000</td>\n",
       "      <td>41.000000</td>\n",
       "      <td>3.320000</td>\n",
       "      <td>6.000000</td>\n",
       "      <td>8.100000</td>\n",
       "      <td>0.600000</td>\n",
       "      <td>156.000000</td>\n",
       "      <td>0.400000</td>\n",
       "    </tr>\n",
       "    <tr>\n",
       "      <th>max</th>\n",
       "      <td>14.900000</td>\n",
       "      <td>0.611000</td>\n",
       "      <td>1.660000</td>\n",
       "      <td>1.038980</td>\n",
       "      <td>15.900000</td>\n",
       "      <td>289.000000</td>\n",
       "      <td>4.010000</td>\n",
       "      <td>9.000000</td>\n",
       "      <td>65.800000</td>\n",
       "      <td>2.000000</td>\n",
       "      <td>440.000000</td>\n",
       "      <td>1.580000</td>\n",
       "    </tr>\n",
       "  </tbody>\n",
       "</table>\n",
       "</div>"
      ],
      "text/plain": [
       "           alcohol    chlorides  citric_acid      density  fixed_acidity  \\\n",
       "count  6497.000000  6497.000000  6497.000000  6497.000000    6497.000000   \n",
       "mean     10.491801     0.056034     0.318633     0.994697       7.215307   \n",
       "std       1.192712     0.035034     0.145318     0.002999       1.296434   \n",
       "min       8.000000     0.009000     0.000000     0.987110       3.800000   \n",
       "25%       9.500000     0.038000     0.250000     0.992340       6.400000   \n",
       "50%      10.300000     0.047000     0.310000     0.994890       7.000000   \n",
       "75%      11.300000     0.065000     0.390000     0.996990       7.700000   \n",
       "max      14.900000     0.611000     1.660000     1.038980      15.900000   \n",
       "\n",
       "       free_sulfur_dioxide           pH      quality  residual_sugar  \\\n",
       "count          6497.000000  6497.000000  6497.000000     6497.000000   \n",
       "mean             30.525319     3.218501     5.818378        5.443235   \n",
       "std              17.749400     0.160787     0.873255        4.757804   \n",
       "min               1.000000     2.720000     3.000000        0.600000   \n",
       "25%              17.000000     3.110000     5.000000        1.800000   \n",
       "50%              29.000000     3.210000     6.000000        3.000000   \n",
       "75%              41.000000     3.320000     6.000000        8.100000   \n",
       "max             289.000000     4.010000     9.000000       65.800000   \n",
       "\n",
       "         sulphates  total_sulfur_dioxide  volatile_acidity  \n",
       "count  6497.000000           6497.000000       6497.000000  \n",
       "mean      0.531268            115.744574          0.339666  \n",
       "std       0.148806             56.521855          0.164636  \n",
       "min       0.220000              6.000000          0.080000  \n",
       "25%       0.430000             77.000000          0.230000  \n",
       "50%       0.510000            118.000000          0.290000  \n",
       "75%       0.600000            156.000000          0.400000  \n",
       "max       2.000000            440.000000          1.580000  "
      ]
     },
     "execution_count": 3,
     "metadata": {},
     "output_type": "execute_result"
    }
   ],
   "source": [
    "wine_qa.describe()"
   ]
  },
  {
   "cell_type": "code",
   "execution_count": 4,
   "metadata": {},
   "outputs": [
    {
     "data": {
      "image/png": "[encoded data removed]",
      "text/plain": [
       "<Figure size 432x288 with 1 Axes>"
      ]
     },
     "metadata": {
      "needs_background": "light"
     },
     "output_type": "display_data"
    }
   ],
   "source": [
    "plt.hist(wine_qa.alcohol, 10, facecolor='green', alpha=0.5,  ec='black', lw=0.5)\n",
    "\n",
    "plt.ylabel('Frequency')\n",
    "plt.xlabel('Alcohol in % Vol')\n",
    "\n",
    "plt.show()"
   ]
  },
  {
   "cell_type": "code",
   "execution_count": 5,
   "metadata": {},
   "outputs": [
    {
     "data": {
      "image/png": "[encoded data removed]",
      "text/plain": [
       "<Figure size 432x288 with 1 Axes>"
      ]
     },
     "metadata": {
      "needs_background": "light"
     },
     "output_type": "display_data"
    }
   ],
   "source": [
    "plt.hist(wine_qa.chlorides, 10, facecolor='green', alpha=0.5,  ec='black', lw=0.5)\n",
    "\n",
    "plt.ylabel('Frequency')\n",
    "plt.xlabel('chlorides')\n",
    "\n",
    "plt.show()"
   ]
  },
  {
   "cell_type": "code",
   "execution_count": 6,
   "metadata": {},
   "outputs": [
    {
     "data": {
      "text/plain": [
       "<AxesSubplot:>"
      ]
     },
     "execution_count": 6,
     "metadata": {},
     "output_type": "execute_result"
    },
    {
     "data": {
      "image/png": "[encoded data removed]",
      "text/plain": [
       "<Figure size 432x288 with 2 Axes>"
      ]
     },
     "metadata": {
      "needs_background": "light"
     },
     "output_type": "display_data"
    }
   ],
   "source": [
    "corr = wine_qa.corr()\n",
    "sns.heatmap(corr, \n",
    "            xticklabels=corr.columns.values,\n",
    "            yticklabels=corr.columns.values)"
   ]
  },
  {
   "cell_type": "code",
   "execution_count": 7,
   "metadata": {},
   "outputs": [
    {
     "data": {
      "text/plain": [
       "array([5, 6, 7, 4, 8, 3, 9])"
      ]
     },
     "execution_count": 7,
     "metadata": {},
     "output_type": "execute_result"
    }
   ],
   "source": [
    "wine_qa['quality'].unique()"
   ]
  },
  {
   "cell_type": "code",
   "execution_count": 8,
   "metadata": {},
   "outputs": [],
   "source": [
    "y = wine_qa['quality']\n",
    "X = wine_qa.drop(columns=['quality'])"
   ]
  },
  {
   "cell_type": "code",
   "execution_count": 9,
   "metadata": {},
   "outputs": [
    {
     "data": {
      "text/plain": [
       "0       5\n",
       "1       5\n",
       "2       5\n",
       "3       6\n",
       "4       5\n",
       "       ..\n",
       "6492    6\n",
       "6493    5\n",
       "6494    6\n",
       "6495    7\n",
       "6496    6\n",
       "Name: quality, Length: 6497, dtype: int64"
      ]
     },
     "execution_count": 9,
     "metadata": {},
     "output_type": "execute_result"
    }
   ],
   "source": [
    "y"
   ]
  },
  {
   "cell_type": "code",
   "execution_count": 10,
   "metadata": {},
   "outputs": [],
   "source": [
    "from sklearn.preprocessing import LabelEncoder\n",
    "\n",
    "label_encoder = LabelEncoder()"
   ]
  },
  {
   "cell_type": "code",
   "execution_count": 11,
   "metadata": {},
   "outputs": [
    {
     "data": {
      "text/plain": [
       "LabelEncoder()"
      ]
     },
     "execution_count": 11,
     "metadata": {},
     "output_type": "execute_result"
    }
   ],
   "source": [
    "label_encoder.fit(X['type'])"
   ]
  },
  {
   "cell_type": "code",
   "execution_count": 12,
   "metadata": {},
   "outputs": [],
   "source": [
    "color = label_encoder.transform(X['type'])\n",
    "X = X.drop(columns=['type'])"
   ]
  },
  {
   "cell_type": "code",
   "execution_count": 13,
   "metadata": {},
   "outputs": [
    {
     "data": {
      "text/plain": [
       "Pipeline(steps=[('standardscaler', StandardScaler()),\n",
       "                ('powertransformer', PowerTransformer())])"
      ]
     },
     "execution_count": 13,
     "metadata": {},
     "output_type": "execute_result"
    }
   ],
   "source": [
    "from sklearn.preprocessing import StandardScaler, PowerTransformer\n",
    "from sklearn.pipeline import make_pipeline\n",
    "prep = make_pipeline(StandardScaler(),PowerTransformer())\n",
    "prep.fit(X)"
   ]
  },
  {
   "cell_type": "code",
   "execution_count": 14,
   "metadata": {},
   "outputs": [
    {
     "data": {
      "text/html": [
       "<div>\n",
       "<style scoped>\n",
       "    .dataframe tbody tr th:only-of-type {\n",
       "        vertical-align: middle;\n",
       "    }\n",
       "\n",
       "    .dataframe tbody tr th {\n",
       "        vertical-align: top;\n",
       "    }\n",
       "\n",
       "    .dataframe thead th {\n",
       "        text-align: right;\n",
       "    }\n",
       "</style>\n",
       "<table border=\"1\" class=\"dataframe\">\n",
       "  <thead>\n",
       "    <tr style=\"text-align: right;\">\n",
       "      <th></th>\n",
       "      <th>0</th>\n",
       "      <th>1</th>\n",
       "      <th>2</th>\n",
       "      <th>3</th>\n",
       "      <th>4</th>\n",
       "      <th>5</th>\n",
       "      <th>6</th>\n",
       "      <th>7</th>\n",
       "      <th>8</th>\n",
       "      <th>9</th>\n",
       "      <th>10</th>\n",
       "      <th>type</th>\n",
       "    </tr>\n",
       "  </thead>\n",
       "  <tbody>\n",
       "    <tr>\n",
       "      <th>0</th>\n",
       "      <td>-0.953370</td>\n",
       "      <td>1.072372</td>\n",
       "      <td>-2.399488</td>\n",
       "      <td>1.033622</td>\n",
       "      <td>0.388848</td>\n",
       "      <td>-1.240947</td>\n",
       "      <td>1.695009</td>\n",
       "      <td>-0.851699</td>\n",
       "      <td>0.419033</td>\n",
       "      <td>-1.434050</td>\n",
       "      <td>1.729941</td>\n",
       "      <td>0</td>\n",
       "    </tr>\n",
       "    <tr>\n",
       "      <th>1</th>\n",
       "      <td>-0.505147</td>\n",
       "      <td>1.498094</td>\n",
       "      <td>-2.399488</td>\n",
       "      <td>0.716893</td>\n",
       "      <td>0.682413</td>\n",
       "      <td>-0.190511</td>\n",
       "      <td>-0.047834</td>\n",
       "      <td>-0.530613</td>\n",
       "      <td>1.092829</td>\n",
       "      <td>-0.864553</td>\n",
       "      <td>2.104292</td>\n",
       "      <td>0</td>\n",
       "    </tr>\n",
       "    <tr>\n",
       "      <th>2</th>\n",
       "      <td>-0.505147</td>\n",
       "      <td>1.399968</td>\n",
       "      <td>-2.072218</td>\n",
       "      <td>0.780642</td>\n",
       "      <td>0.682413</td>\n",
       "      <td>-0.918777</td>\n",
       "      <td>0.323952</td>\n",
       "      <td>-0.664079</td>\n",
       "      <td>0.943554</td>\n",
       "      <td>-1.089511</td>\n",
       "      <td>1.866502</td>\n",
       "      <td>0</td>\n",
       "    </tr>\n",
       "    <tr>\n",
       "      <th>3</th>\n",
       "      <td>-0.505147</td>\n",
       "      <td>1.047689</td>\n",
       "      <td>1.588965</td>\n",
       "      <td>1.096401</td>\n",
       "      <td>2.226182</td>\n",
       "      <td>-0.763993</td>\n",
       "      <td>-0.309721</td>\n",
       "      <td>-0.851699</td>\n",
       "      <td>0.548089</td>\n",
       "      <td>-0.985790</td>\n",
       "      <td>-0.165669</td>\n",
       "      <td>0</td>\n",
       "    </tr>\n",
       "    <tr>\n",
       "      <th>4</th>\n",
       "      <td>-0.953370</td>\n",
       "      <td>1.072372</td>\n",
       "      <td>-2.399488</td>\n",
       "      <td>1.033622</td>\n",
       "      <td>0.388848</td>\n",
       "      <td>-1.240947</td>\n",
       "      <td>1.695009</td>\n",
       "      <td>-0.851699</td>\n",
       "      <td>0.419033</td>\n",
       "      <td>-1.434050</td>\n",
       "      <td>1.729941</td>\n",
       "      <td>0</td>\n",
       "    </tr>\n",
       "  </tbody>\n",
       "</table>\n",
       "</div>"
      ],
      "text/plain": [
       "          0         1         2         3         4         5         6  \\\n",
       "0 -0.953370  1.072372 -2.399488  1.033622  0.388848 -1.240947  1.695009   \n",
       "1 -0.505147  1.498094 -2.399488  0.716893  0.682413 -0.190511 -0.047834   \n",
       "2 -0.505147  1.399968 -2.072218  0.780642  0.682413 -0.918777  0.323952   \n",
       "3 -0.505147  1.047689  1.588965  1.096401  2.226182 -0.763993 -0.309721   \n",
       "4 -0.953370  1.072372 -2.399488  1.033622  0.388848 -1.240947  1.695009   \n",
       "\n",
       "          7         8         9        10  type  \n",
       "0 -0.851699  0.419033 -1.434050  1.729941     0  \n",
       "1 -0.530613  1.092829 -0.864553  2.104292     0  \n",
       "2 -0.664079  0.943554 -1.089511  1.866502     0  \n",
       "3 -0.851699  0.548089 -0.985790 -0.165669     0  \n",
       "4 -0.851699  0.419033 -1.434050  1.729941     0  "
      ]
     },
     "execution_count": 14,
     "metadata": {},
     "output_type": "execute_result"
    }
   ],
   "source": [
    "X_trans = pd.DataFrame(prep.transform(X))\n",
    "X_trans['type'] = color\n",
    "X_trans.head()"
   ]
  },
  {
   "cell_type": "code",
   "execution_count": 15,
   "metadata": {},
   "outputs": [],
   "source": [
    "from sklearn.model_selection import train_test_split\n",
    "X_train, X_test, y_train, y_test = train_test_split(X_trans,y)"
   ]
  },
  {
   "cell_type": "code",
   "execution_count": 16,
   "metadata": {},
   "outputs": [
    {
     "data": {
      "text/html": [
       "<div>\n",
       "<style scoped>\n",
       "    .dataframe tbody tr th:only-of-type {\n",
       "        vertical-align: middle;\n",
       "    }\n",
       "\n",
       "    .dataframe tbody tr th {\n",
       "        vertical-align: top;\n",
       "    }\n",
       "\n",
       "    .dataframe thead th {\n",
       "        text-align: right;\n",
       "    }\n",
       "</style>\n",
       "<table border=\"1\" class=\"dataframe\">\n",
       "  <thead>\n",
       "    <tr style=\"text-align: right;\">\n",
       "      <th></th>\n",
       "      <th>0</th>\n",
       "      <th>1</th>\n",
       "      <th>2</th>\n",
       "      <th>3</th>\n",
       "      <th>4</th>\n",
       "      <th>5</th>\n",
       "      <th>6</th>\n",
       "      <th>7</th>\n",
       "      <th>8</th>\n",
       "      <th>9</th>\n",
       "      <th>10</th>\n",
       "      <th>type</th>\n",
       "    </tr>\n",
       "  </thead>\n",
       "  <tbody>\n",
       "    <tr>\n",
       "      <th>3336</th>\n",
       "      <td>-0.724284</td>\n",
       "      <td>0.460008</td>\n",
       "      <td>-0.080055</td>\n",
       "      <td>1.033622</td>\n",
       "      <td>-0.065056</td>\n",
       "      <td>1.117522</td>\n",
       "      <td>1.063381</td>\n",
       "      <td>1.132590</td>\n",
       "      <td>-1.243290</td>\n",
       "      <td>1.232129</td>\n",
       "      <td>-1.577391</td>\n",
       "      <td>1</td>\n",
       "    </tr>\n",
       "    <tr>\n",
       "      <th>2641</th>\n",
       "      <td>0.340956</td>\n",
       "      <td>-0.318578</td>\n",
       "      <td>0.059738</td>\n",
       "      <td>0.198104</td>\n",
       "      <td>0.306964</td>\n",
       "      <td>-0.688239</td>\n",
       "      <td>0.202793</td>\n",
       "      <td>0.373559</td>\n",
       "      <td>-0.489791</td>\n",
       "      <td>-0.218803</td>\n",
       "      <td>1.098436</td>\n",
       "      <td>1</td>\n",
       "    </tr>\n",
       "    <tr>\n",
       "      <th>467</th>\n",
       "      <td>2.262531</td>\n",
       "      <td>0.761234</td>\n",
       "      <td>0.914080</td>\n",
       "      <td>0.032056</td>\n",
       "      <td>1.261893</td>\n",
       "      <td>-1.579080</td>\n",
       "      <td>0.674253</td>\n",
       "      <td>-0.530613</td>\n",
       "      <td>1.570276</td>\n",
       "      <td>-1.708494</td>\n",
       "      <td>0.977206</td>\n",
       "      <td>0</td>\n",
       "    </tr>\n",
       "    <tr>\n",
       "      <th>6294</th>\n",
       "      <td>1.726207</td>\n",
       "      <td>-1.192630</td>\n",
       "      <td>0.059738</td>\n",
       "      <td>-0.941812</td>\n",
       "      <td>-0.277848</td>\n",
       "      <td>0.066034</td>\n",
       "      <td>-0.512574</td>\n",
       "      <td>1.059450</td>\n",
       "      <td>0.943554</td>\n",
       "      <td>-0.060174</td>\n",
       "      <td>0.397883</td>\n",
       "      <td>1</td>\n",
       "    </tr>\n",
       "    <tr>\n",
       "      <th>5186</th>\n",
       "      <td>-0.837615</td>\n",
       "      <td>-0.388146</td>\n",
       "      <td>2.465091</td>\n",
       "      <td>1.046192</td>\n",
       "      <td>-0.169288</td>\n",
       "      <td>-0.467768</td>\n",
       "      <td>-2.599217</td>\n",
       "      <td>1.754381</td>\n",
       "      <td>-0.032374</td>\n",
       "      <td>-0.042502</td>\n",
       "      <td>-1.172405</td>\n",
       "      <td>1</td>\n",
       "    </tr>\n",
       "  </tbody>\n",
       "</table>\n",
       "</div>"
      ],
      "text/plain": [
       "             0         1         2         3         4         5         6  \\\n",
       "3336 -0.724284  0.460008 -0.080055  1.033622 -0.065056  1.117522  1.063381   \n",
       "2641  0.340956 -0.318578  0.059738  0.198104  0.306964 -0.688239  0.202793   \n",
       "467   2.262531  0.761234  0.914080  0.032056  1.261893 -1.579080  0.674253   \n",
       "6294  1.726207 -1.192630  0.059738 -0.941812 -0.277848  0.066034 -0.512574   \n",
       "5186 -0.837615 -0.388146  2.465091  1.046192 -0.169288 -0.467768 -2.599217   \n",
       "\n",
       "             7         8         9        10  type  \n",
       "3336  1.132590 -1.243290  1.232129 -1.577391     1  \n",
       "2641  0.373559 -0.489791 -0.218803  1.098436     1  \n",
       "467  -0.530613  1.570276 -1.708494  0.977206     0  \n",
       "6294  1.059450  0.943554 -0.060174  0.397883     1  \n",
       "5186  1.754381 -0.032374 -0.042502 -1.172405     1  "
      ]
     },
     "execution_count": 16,
     "metadata": {},
     "output_type": "execute_result"
    }
   ],
   "source": [
    "pd.DataFrame(X_train).head()"
   ]
  },
  {
   "cell_type": "markdown",
   "metadata": {},
   "source": [
    "## MODEL"
   ]
  },
  {
   "cell_type": "code",
   "execution_count": 17,
   "metadata": {},
   "outputs": [],
   "source": [
    "from keras import regularizers\n",
    "from tensorflow.keras.models import Sequential\n",
    "from tensorflow.keras.layers import Dense, BatchNormalization, Dropout, Activation\n",
    "model = Sequential()\n",
    "model.add(Dense(12, activation='relu', input_shape=(12,),kernel_regularizer=regularizers.l2(0.01)))\n",
    "model.add(Dense(12, activation='relu'))\n",
    "model.add(Dense(1, activation='relu'))"
   ]
  },
  {
   "cell_type": "code",
   "execution_count": 18,
   "metadata": {},
   "outputs": [
    {
     "data": {
      "text/plain": [
       "(None, 1)"
      ]
     },
     "execution_count": 18,
     "metadata": {},
     "output_type": "execute_result"
    }
   ],
   "source": [
    "model.output_shape"
   ]
  },
  {
   "cell_type": "code",
   "execution_count": 19,
   "metadata": {},
   "outputs": [
    {
     "name": "stdout",
     "output_type": "stream",
     "text": [
      "Model: \"sequential\"\n",
      "_________________________________________________________________\n",
      "Layer (type)                 Output Shape              Param #   \n",
      "=================================================================\n",
      "dense (Dense)                (None, 12)                156       \n",
      "_________________________________________________________________\n",
      "dense_1 (Dense)              (None, 12)                156       \n",
      "_________________________________________________________________\n",
      "dense_2 (Dense)              (None, 1)                 13        \n",
      "=================================================================\n",
      "Total params: 325\n",
      "Trainable params: 325\n",
      "Non-trainable params: 0\n",
      "_________________________________________________________________\n"
     ]
    }
   ],
   "source": [
    "model.summary()"
   ]
  },
  {
   "cell_type": "code",
   "execution_count": 20,
   "metadata": {},
   "outputs": [
    {
     "data": {
      "text/plain": [
       "{'name': 'sequential',\n",
       " 'layers': [{'class_name': 'InputLayer',\n",
       "   'config': {'batch_input_shape': (None, 12),\n",
       "    'dtype': 'float32',\n",
       "    'sparse': False,\n",
       "    'ragged': False,\n",
       "    'name': 'dense_input'}},\n",
       "  {'class_name': 'Dense',\n",
       "   'config': {'name': 'dense',\n",
       "    'trainable': True,\n",
       "    'batch_input_shape': (None, 12),\n",
       "    'dtype': 'float32',\n",
       "    'units': 12,\n",
       "    'activation': 'relu',\n",
       "    'use_bias': True,\n",
       "    'kernel_initializer': {'class_name': 'GlorotUniform',\n",
       "     'config': {'seed': None}},\n",
       "    'bias_initializer': {'class_name': 'Zeros', 'config': {}},\n",
       "    'kernel_regularizer': {'class_name': 'L2',\n",
       "     'config': {'l2': 0.009999999776482582}},\n",
       "    'bias_regularizer': None,\n",
       "    'activity_regularizer': None,\n",
       "    'kernel_constraint': None,\n",
       "    'bias_constraint': None}},\n",
       "  {'class_name': 'Dense',\n",
       "   'config': {'name': 'dense_1',\n",
       "    'trainable': True,\n",
       "    'dtype': 'float32',\n",
       "    'units': 12,\n",
       "    'activation': 'relu',\n",
       "    'use_bias': True,\n",
       "    'kernel_initializer': {'class_name': 'GlorotUniform',\n",
       "     'config': {'seed': None}},\n",
       "    'bias_initializer': {'class_name': 'Zeros', 'config': {}},\n",
       "    'kernel_regularizer': None,\n",
       "    'bias_regularizer': None,\n",
       "    'activity_regularizer': None,\n",
       "    'kernel_constraint': None,\n",
       "    'bias_constraint': None}},\n",
       "  {'class_name': 'Dense',\n",
       "   'config': {'name': 'dense_2',\n",
       "    'trainable': True,\n",
       "    'dtype': 'float32',\n",
       "    'units': 1,\n",
       "    'activation': 'relu',\n",
       "    'use_bias': True,\n",
       "    'kernel_initializer': {'class_name': 'GlorotUniform',\n",
       "     'config': {'seed': None}},\n",
       "    'bias_initializer': {'class_name': 'Zeros', 'config': {}},\n",
       "    'kernel_regularizer': None,\n",
       "    'bias_regularizer': None,\n",
       "    'activity_regularizer': None,\n",
       "    'kernel_constraint': None,\n",
       "    'bias_constraint': None}}]}"
      ]
     },
     "execution_count": 20,
     "metadata": {},
     "output_type": "execute_result"
    }
   ],
   "source": [
    "model.get_config()"
   ]
  },
  {
   "cell_type": "code",
   "execution_count": 21,
   "metadata": {},
   "outputs": [
    {
     "data": {
      "text/plain": [
       "[array([[ 4.50519919e-01,  4.44102645e-01, -4.22923446e-01,\n",
       "          2.86087155e-01,  3.90708804e-01,  3.30061078e-01,\n",
       "         -2.50834107e-01, -3.67372036e-02, -2.79937148e-01,\n",
       "         -4.58551407e-01, -3.65507364e-01,  3.27872753e-01],\n",
       "        [ 2.50440359e-01,  1.73040628e-01,  1.20479465e-01,\n",
       "          6.37195110e-02, -2.09986091e-01,  9.25574303e-02,\n",
       "         -1.56961083e-01,  7.55153894e-02, -1.45484805e-01,\n",
       "         -3.80951285e-01, -3.20138335e-01, -4.94844913e-01],\n",
       "        [ 5.26630878e-03, -3.25883985e-01, -3.71089339e-01,\n",
       "          1.16636753e-01, -5.37817478e-02, -7.18903542e-02,\n",
       "         -4.95244503e-01,  4.43470478e-03, -3.60789061e-01,\n",
       "         -2.45681882e-01,  2.74186134e-02, -3.06792498e-01],\n",
       "        [-3.91239285e-01,  2.46796846e-01,  4.25716639e-02,\n",
       "         -4.39472437e-01, -4.99763489e-02, -2.37056494e-01,\n",
       "          3.66614461e-01,  2.34723091e-04, -4.61615682e-01,\n",
       "         -6.32561445e-02,  4.55687046e-02, -1.38828516e-01],\n",
       "        [ 4.12057400e-01,  3.50546122e-01,  3.44331622e-01,\n",
       "         -2.38197327e-01, -1.66298985e-01, -9.77829695e-02,\n",
       "          2.10019946e-01, -2.61405706e-01,  1.01389050e-01,\n",
       "          9.36738253e-02, -3.19884300e-01, -3.25399637e-01],\n",
       "        [ 8.63726139e-02, -4.94768500e-01, -2.86655188e-01,\n",
       "         -4.24754024e-01,  3.57675433e-01, -3.95915985e-01,\n",
       "         -3.11693430e-01,  2.69960046e-01, -1.03849173e-01,\n",
       "          4.59836841e-01, -1.63612962e-01,  3.66376400e-01],\n",
       "        [-8.60474110e-02,  1.87298179e-01,  2.78349519e-01,\n",
       "          1.05063319e-01, -3.71034622e-01, -4.71144438e-01,\n",
       "          8.66965055e-02, -3.63030672e-01,  1.53670669e-01,\n",
       "          1.12137198e-01, -2.32587457e-01,  1.66573644e-01],\n",
       "        [-2.28926897e-01, -3.17834616e-01,  1.35889769e-01,\n",
       "         -1.11833692e-01,  4.84290838e-01, -1.62408471e-01,\n",
       "          3.96895289e-01,  4.20677185e-01, -3.46649647e-01,\n",
       "         -3.61110091e-01, -2.63460636e-01,  2.71169066e-01],\n",
       "        [-4.37148929e-01,  9.88306999e-02,  3.88592362e-01,\n",
       "          9.39364433e-02, -4.46723223e-01, -4.02975559e-01,\n",
       "          1.33093715e-01,  3.24673891e-01, -3.16377640e-01,\n",
       "          1.04233623e-01, -2.71762133e-01, -4.69594002e-02],\n",
       "        [-4.91952896e-02,  2.41857171e-01, -1.09415889e-01,\n",
       "          4.43849802e-01,  2.90241361e-01,  4.92827892e-01,\n",
       "          3.60941172e-01,  3.88426542e-01, -1.24084949e-03,\n",
       "         -1.96797371e-01, -3.51696134e-01,  2.94264674e-01],\n",
       "        [-3.22618842e-01,  9.82046127e-02,  3.22493672e-01,\n",
       "         -2.53578901e-01, -3.52606893e-01, -2.25095749e-01,\n",
       "         -1.02047920e-02, -3.44230533e-01, -3.35701108e-01,\n",
       "          3.70210886e-01,  4.87182140e-02, -7.05862045e-03],\n",
       "        [ 1.00537419e-01,  3.88205290e-01,  4.24154282e-01,\n",
       "          5.87490797e-02, -1.16225004e-01, -4.95291829e-01,\n",
       "          8.08417797e-02,  9.96625423e-03, -2.27057695e-01,\n",
       "         -1.78205609e-01,  1.32686853e-01, -5.47579527e-02]], dtype=float32),\n",
       " array([0., 0., 0., 0., 0., 0., 0., 0., 0., 0., 0., 0.], dtype=float32),\n",
       " array([[ 0.48442256, -0.17380512,  0.21477807,  0.19926453, -0.28164244,\n",
       "         -0.28586042, -0.03441679, -0.4329754 , -0.09374046, -0.04070318,\n",
       "         -0.47222865,  0.3084222 ],\n",
       "        [ 0.18594015, -0.49100602, -0.47791815,  0.4422021 ,  0.16253161,\n",
       "          0.3567083 , -0.18504381,  0.0063082 , -0.24308252,  0.42341852,\n",
       "         -0.47910738,  0.09274244],\n",
       "        [-0.37594128, -0.4949932 , -0.11276114,  0.2772603 ,  0.10760367,\n",
       "         -0.23418057, -0.45583916, -0.29158902,  0.48255086, -0.48967063,\n",
       "          0.02638245,  0.19050252],\n",
       "        [ 0.31957257, -0.49377573,  0.29347908,  0.3294927 ,  0.3047216 ,\n",
       "          0.30001748,  0.18683934,  0.264387  ,  0.16393447, -0.21173155,\n",
       "         -0.32222974, -0.44354594],\n",
       "        [-0.28609455, -0.22638583,  0.14308536,  0.13381648, -0.14768016,\n",
       "         -0.17637241, -0.4278754 , -0.09885049,  0.13573456, -0.3400072 ,\n",
       "          0.38196242,  0.24827194],\n",
       "        [ 0.18118143, -0.06514835,  0.05851388, -0.3412466 ,  0.4928223 ,\n",
       "          0.10518146,  0.47753477,  0.35635197,  0.16800916,  0.33956158,\n",
       "         -0.14318812,  0.21837711],\n",
       "        [ 0.05840755, -0.35006952,  0.15820396,  0.00422537, -0.18966925,\n",
       "          0.45814133, -0.22528255, -0.01028717, -0.05061567, -0.07283318,\n",
       "          0.43806088,  0.35543144],\n",
       "        [-0.15572727, -0.30461943,  0.41831362, -0.09810805, -0.18031812,\n",
       "         -0.4842838 , -0.01937342, -0.02260995,  0.30677557,  0.4393903 ,\n",
       "          0.22711277,  0.32245564],\n",
       "        [ 0.31798673,  0.44823372, -0.4990065 ,  0.37574053,  0.01757967,\n",
       "         -0.20781446,  0.42450523, -0.08998418, -0.39804375, -0.34656346,\n",
       "         -0.4275354 ,  0.10719502],\n",
       "        [-0.21895897, -0.463773  , -0.04956269, -0.23399341, -0.1171838 ,\n",
       "         -0.44561982, -0.04665852,  0.26649547,  0.00359082, -0.42019844,\n",
       "          0.07588303, -0.19824314],\n",
       "        [ 0.36361217,  0.01993489,  0.27142453,  0.44198716, -0.19946444,\n",
       "         -0.25194967, -0.33807218, -0.28860676,  0.2458905 , -0.35457957,\n",
       "          0.06847608, -0.11571956],\n",
       "        [ 0.3465519 , -0.1952858 ,  0.30275667, -0.48093808,  0.3284459 ,\n",
       "         -0.40133345,  0.03494573,  0.03036058, -0.10890567,  0.02759492,\n",
       "          0.3372475 , -0.47493112]], dtype=float32),\n",
       " array([0., 0., 0., 0., 0., 0., 0., 0., 0., 0., 0., 0.], dtype=float32),\n",
       " array([[-0.00317627],\n",
       "        [-0.43099666],\n",
       "        [-0.4116643 ],\n",
       "        [ 0.33250022],\n",
       "        [-0.58210504],\n",
       "        [-0.6532851 ],\n",
       "        [-0.30010927],\n",
       "        [ 0.56785655],\n",
       "        [-0.14099973],\n",
       "        [-0.2422154 ],\n",
       "        [-0.18817955],\n",
       "        [ 0.11934435]], dtype=float32),\n",
       " array([0.], dtype=float32)]"
      ]
     },
     "execution_count": 21,
     "metadata": {},
     "output_type": "execute_result"
    }
   ],
   "source": [
    "model.get_weights()"
   ]
  },
  {
   "cell_type": "code",
   "execution_count": 22,
   "metadata": {},
   "outputs": [
    {
     "name": "stdout",
     "output_type": "stream",
     "text": [
      "('You must install pydot (`pip install pydot`) and install graphviz (see instructions at https://graphviz.gitlab.io/download/) ', 'for plot_model/model_to_dot to work.')\n"
     ]
    }
   ],
   "source": [
    "from tensorflow.keras.utils import plot_model\n",
    "plot_model(model, show_shapes=True)"
   ]
  },
  {
   "cell_type": "code",
   "execution_count": 23,
   "metadata": {},
   "outputs": [],
   "source": [
    "wg, bs = model.layers[2].get_weights()"
   ]
  },
  {
   "cell_type": "code",
   "execution_count": 24,
   "metadata": {},
   "outputs": [
    {
     "data": {
      "text/plain": [
       "(12, 1)"
      ]
     },
     "execution_count": 24,
     "metadata": {},
     "output_type": "execute_result"
    }
   ],
   "source": [
    "wg.shape # 1 weight per input per neuron"
   ]
  },
  {
   "cell_type": "code",
   "execution_count": 25,
   "metadata": {},
   "outputs": [
    {
     "data": {
      "text/plain": [
       "array([[-0.00317627]], dtype=float32)"
      ]
     },
     "execution_count": 25,
     "metadata": {},
     "output_type": "execute_result"
    }
   ],
   "source": [
    "wg[:1,:5]"
   ]
  },
  {
   "cell_type": "code",
   "execution_count": 26,
   "metadata": {},
   "outputs": [
    {
     "data": {
      "text/plain": [
       "(1,)"
      ]
     },
     "execution_count": 26,
     "metadata": {},
     "output_type": "execute_result"
    }
   ],
   "source": [
    "bs.shape # 1 bias per neuron"
   ]
  },
  {
   "cell_type": "code",
   "execution_count": 27,
   "metadata": {},
   "outputs": [
    {
     "data": {
      "text/plain": [
       "array([0.], dtype=float32)"
      ]
     },
     "execution_count": 27,
     "metadata": {},
     "output_type": "execute_result"
    }
   ],
   "source": [
    "bs[:5]"
   ]
  },
  {
   "cell_type": "markdown",
   "metadata": {},
   "source": [
    "## Compile and Fit"
   ]
  },
  {
   "cell_type": "code",
   "execution_count": 28,
   "metadata": {},
   "outputs": [
    {
     "data": {
      "text/html": [
       "<div>\n",
       "<style scoped>\n",
       "    .dataframe tbody tr th:only-of-type {\n",
       "        vertical-align: middle;\n",
       "    }\n",
       "\n",
       "    .dataframe tbody tr th {\n",
       "        vertical-align: top;\n",
       "    }\n",
       "\n",
       "    .dataframe thead th {\n",
       "        text-align: right;\n",
       "    }\n",
       "</style>\n",
       "<table border=\"1\" class=\"dataframe\">\n",
       "  <thead>\n",
       "    <tr style=\"text-align: right;\">\n",
       "      <th></th>\n",
       "      <th>0</th>\n",
       "      <th>1</th>\n",
       "      <th>2</th>\n",
       "      <th>3</th>\n",
       "      <th>4</th>\n",
       "      <th>5</th>\n",
       "      <th>6</th>\n",
       "      <th>7</th>\n",
       "      <th>8</th>\n",
       "      <th>9</th>\n",
       "      <th>10</th>\n",
       "      <th>type</th>\n",
       "    </tr>\n",
       "  </thead>\n",
       "  <tbody>\n",
       "    <tr>\n",
       "      <th>3336</th>\n",
       "      <td>-0.724284</td>\n",
       "      <td>0.460008</td>\n",
       "      <td>-0.080055</td>\n",
       "      <td>1.033622</td>\n",
       "      <td>-0.065056</td>\n",
       "      <td>1.117522</td>\n",
       "      <td>1.063381</td>\n",
       "      <td>1.132590</td>\n",
       "      <td>-1.243290</td>\n",
       "      <td>1.232129</td>\n",
       "      <td>-1.577391</td>\n",
       "      <td>1</td>\n",
       "    </tr>\n",
       "    <tr>\n",
       "      <th>2641</th>\n",
       "      <td>0.340956</td>\n",
       "      <td>-0.318578</td>\n",
       "      <td>0.059738</td>\n",
       "      <td>0.198104</td>\n",
       "      <td>0.306964</td>\n",
       "      <td>-0.688239</td>\n",
       "      <td>0.202793</td>\n",
       "      <td>0.373559</td>\n",
       "      <td>-0.489791</td>\n",
       "      <td>-0.218803</td>\n",
       "      <td>1.098436</td>\n",
       "      <td>1</td>\n",
       "    </tr>\n",
       "    <tr>\n",
       "      <th>467</th>\n",
       "      <td>2.262531</td>\n",
       "      <td>0.761234</td>\n",
       "      <td>0.914080</td>\n",
       "      <td>0.032056</td>\n",
       "      <td>1.261893</td>\n",
       "      <td>-1.579080</td>\n",
       "      <td>0.674253</td>\n",
       "      <td>-0.530613</td>\n",
       "      <td>1.570276</td>\n",
       "      <td>-1.708494</td>\n",
       "      <td>0.977206</td>\n",
       "      <td>0</td>\n",
       "    </tr>\n",
       "    <tr>\n",
       "      <th>6294</th>\n",
       "      <td>1.726207</td>\n",
       "      <td>-1.192630</td>\n",
       "      <td>0.059738</td>\n",
       "      <td>-0.941812</td>\n",
       "      <td>-0.277848</td>\n",
       "      <td>0.066034</td>\n",
       "      <td>-0.512574</td>\n",
       "      <td>1.059450</td>\n",
       "      <td>0.943554</td>\n",
       "      <td>-0.060174</td>\n",
       "      <td>0.397883</td>\n",
       "      <td>1</td>\n",
       "    </tr>\n",
       "    <tr>\n",
       "      <th>5186</th>\n",
       "      <td>-0.837615</td>\n",
       "      <td>-0.388146</td>\n",
       "      <td>2.465091</td>\n",
       "      <td>1.046192</td>\n",
       "      <td>-0.169288</td>\n",
       "      <td>-0.467768</td>\n",
       "      <td>-2.599217</td>\n",
       "      <td>1.754381</td>\n",
       "      <td>-0.032374</td>\n",
       "      <td>-0.042502</td>\n",
       "      <td>-1.172405</td>\n",
       "      <td>1</td>\n",
       "    </tr>\n",
       "  </tbody>\n",
       "</table>\n",
       "</div>"
      ],
      "text/plain": [
       "             0         1         2         3         4         5         6  \\\n",
       "3336 -0.724284  0.460008 -0.080055  1.033622 -0.065056  1.117522  1.063381   \n",
       "2641  0.340956 -0.318578  0.059738  0.198104  0.306964 -0.688239  0.202793   \n",
       "467   2.262531  0.761234  0.914080  0.032056  1.261893 -1.579080  0.674253   \n",
       "6294  1.726207 -1.192630  0.059738 -0.941812 -0.277848  0.066034 -0.512574   \n",
       "5186 -0.837615 -0.388146  2.465091  1.046192 -0.169288 -0.467768 -2.599217   \n",
       "\n",
       "             7         8         9        10  type  \n",
       "3336  1.132590 -1.243290  1.232129 -1.577391     1  \n",
       "2641  0.373559 -0.489791 -0.218803  1.098436     1  \n",
       "467  -0.530613  1.570276 -1.708494  0.977206     0  \n",
       "6294  1.059450  0.943554 -0.060174  0.397883     1  \n",
       "5186  1.754381 -0.032374 -0.042502 -1.172405     1  "
      ]
     },
     "execution_count": 28,
     "metadata": {},
     "output_type": "execute_result"
    }
   ],
   "source": [
    "X_train.head()"
   ]
  },
  {
   "cell_type": "code",
   "execution_count": 29,
   "metadata": {},
   "outputs": [
    {
     "data": {
      "text/html": [
       "<div>\n",
       "<style scoped>\n",
       "    .dataframe tbody tr th:only-of-type {\n",
       "        vertical-align: middle;\n",
       "    }\n",
       "\n",
       "    .dataframe tbody tr th {\n",
       "        vertical-align: top;\n",
       "    }\n",
       "\n",
       "    .dataframe thead th {\n",
       "        text-align: right;\n",
       "    }\n",
       "</style>\n",
       "<table border=\"1\" class=\"dataframe\">\n",
       "  <thead>\n",
       "    <tr style=\"text-align: right;\">\n",
       "      <th></th>\n",
       "      <th>0</th>\n",
       "      <th>1</th>\n",
       "      <th>2</th>\n",
       "      <th>3</th>\n",
       "      <th>4</th>\n",
       "      <th>5</th>\n",
       "      <th>6</th>\n",
       "      <th>7</th>\n",
       "      <th>8</th>\n",
       "      <th>9</th>\n",
       "      <th>10</th>\n",
       "      <th>type</th>\n",
       "    </tr>\n",
       "  </thead>\n",
       "  <tbody>\n",
       "    <tr>\n",
       "      <th>count</th>\n",
       "      <td>4872.000000</td>\n",
       "      <td>4872.000000</td>\n",
       "      <td>4872.000000</td>\n",
       "      <td>4872.000000</td>\n",
       "      <td>4872.000000</td>\n",
       "      <td>4872.000000</td>\n",
       "      <td>4872.000000</td>\n",
       "      <td>4872.000000</td>\n",
       "      <td>4872.000000</td>\n",
       "      <td>4872.000000</td>\n",
       "      <td>4872.000000</td>\n",
       "      <td>4872.000000</td>\n",
       "    </tr>\n",
       "    <tr>\n",
       "      <th>mean</th>\n",
       "      <td>-0.000371</td>\n",
       "      <td>-0.008877</td>\n",
       "      <td>-0.012121</td>\n",
       "      <td>-0.000827</td>\n",
       "      <td>-0.015404</td>\n",
       "      <td>-0.003922</td>\n",
       "      <td>0.001294</td>\n",
       "      <td>0.005493</td>\n",
       "      <td>-0.007200</td>\n",
       "      <td>-0.000325</td>\n",
       "      <td>0.000632</td>\n",
       "      <td>0.757389</td>\n",
       "    </tr>\n",
       "    <tr>\n",
       "      <th>std</th>\n",
       "      <td>1.004867</td>\n",
       "      <td>0.996362</td>\n",
       "      <td>1.001655</td>\n",
       "      <td>1.006094</td>\n",
       "      <td>1.003601</td>\n",
       "      <td>0.991894</td>\n",
       "      <td>1.006586</td>\n",
       "      <td>1.001305</td>\n",
       "      <td>1.000380</td>\n",
       "      <td>0.994787</td>\n",
       "      <td>0.999019</td>\n",
       "      <td>0.428706</td>\n",
       "    </tr>\n",
       "    <tr>\n",
       "      <th>min</th>\n",
       "      <td>-2.801674</td>\n",
       "      <td>-3.846119</td>\n",
       "      <td>-2.399488</td>\n",
       "      <td>-2.681231</td>\n",
       "      <td>-5.076634</td>\n",
       "      <td>-2.114337</td>\n",
       "      <td>-3.656202</td>\n",
       "      <td>-1.538962</td>\n",
       "      <td>-3.405513</td>\n",
       "      <td>-1.913711</td>\n",
       "      <td>-2.824694</td>\n",
       "      <td>0.000000</td>\n",
       "    </tr>\n",
       "    <tr>\n",
       "      <th>25%</th>\n",
       "      <td>-0.837615</td>\n",
       "      <td>-0.685937</td>\n",
       "      <td>-0.513902</td>\n",
       "      <td>-0.765344</td>\n",
       "      <td>-0.628774</td>\n",
       "      <td>-0.763993</td>\n",
       "      <td>-0.650564</td>\n",
       "      <td>-0.900341</td>\n",
       "      <td>-0.692091</td>\n",
       "      <td>-0.656091</td>\n",
       "      <td>-0.686199</td>\n",
       "      <td>1.000000</td>\n",
       "    </tr>\n",
       "    <tr>\n",
       "      <th>50%</th>\n",
       "      <td>-0.004737</td>\n",
       "      <td>-0.059408</td>\n",
       "      <td>-0.009821</td>\n",
       "      <td>0.065447</td>\n",
       "      <td>0.034769</td>\n",
       "      <td>0.066034</td>\n",
       "      <td>0.015937</td>\n",
       "      <td>-0.362234</td>\n",
       "      <td>0.050423</td>\n",
       "      <td>0.028287</td>\n",
       "      <td>-0.073295</td>\n",
       "      <td>1.000000</td>\n",
       "    </tr>\n",
       "    <tr>\n",
       "      <th>75%</th>\n",
       "      <td>0.783502</td>\n",
       "      <td>0.727783</td>\n",
       "      <td>0.529539</td>\n",
       "      <td>0.780642</td>\n",
       "      <td>0.613444</td>\n",
       "      <td>0.712535</td>\n",
       "      <td>0.674253</td>\n",
       "      <td>0.936988</td>\n",
       "      <td>0.669100</td>\n",
       "      <td>0.707528</td>\n",
       "      <td>0.694061</td>\n",
       "      <td>1.000000</td>\n",
       "    </tr>\n",
       "    <tr>\n",
       "      <th>max</th>\n",
       "      <td>2.659226</td>\n",
       "      <td>3.236407</td>\n",
       "      <td>7.432985</td>\n",
       "      <td>12.552618</td>\n",
       "      <td>3.449920</td>\n",
       "      <td>6.885800</td>\n",
       "      <td>4.049913</td>\n",
       "      <td>2.847312</td>\n",
       "      <td>4.450583</td>\n",
       "      <td>5.964417</td>\n",
       "      <td>3.009259</td>\n",
       "      <td>1.000000</td>\n",
       "    </tr>\n",
       "  </tbody>\n",
       "</table>\n",
       "</div>"
      ],
      "text/plain": [
       "                 0            1            2            3            4  \\\n",
       "count  4872.000000  4872.000000  4872.000000  4872.000000  4872.000000   \n",
       "mean     -0.000371    -0.008877    -0.012121    -0.000827    -0.015404   \n",
       "std       1.004867     0.996362     1.001655     1.006094     1.003601   \n",
       "min      -2.801674    -3.846119    -2.399488    -2.681231    -5.076634   \n",
       "25%      -0.837615    -0.685937    -0.513902    -0.765344    -0.628774   \n",
       "50%      -0.004737    -0.059408    -0.009821     0.065447     0.034769   \n",
       "75%       0.783502     0.727783     0.529539     0.780642     0.613444   \n",
       "max       2.659226     3.236407     7.432985    12.552618     3.449920   \n",
       "\n",
       "                 5            6            7            8            9  \\\n",
       "count  4872.000000  4872.000000  4872.000000  4872.000000  4872.000000   \n",
       "mean     -0.003922     0.001294     0.005493    -0.007200    -0.000325   \n",
       "std       0.991894     1.006586     1.001305     1.000380     0.994787   \n",
       "min      -2.114337    -3.656202    -1.538962    -3.405513    -1.913711   \n",
       "25%      -0.763993    -0.650564    -0.900341    -0.692091    -0.656091   \n",
       "50%       0.066034     0.015937    -0.362234     0.050423     0.028287   \n",
       "75%       0.712535     0.674253     0.936988     0.669100     0.707528   \n",
       "max       6.885800     4.049913     2.847312     4.450583     5.964417   \n",
       "\n",
       "                10         type  \n",
       "count  4872.000000  4872.000000  \n",
       "mean      0.000632     0.757389  \n",
       "std       0.999019     0.428706  \n",
       "min      -2.824694     0.000000  \n",
       "25%      -0.686199     1.000000  \n",
       "50%      -0.073295     1.000000  \n",
       "75%       0.694061     1.000000  \n",
       "max       3.009259     1.000000  "
      ]
     },
     "execution_count": 29,
     "metadata": {},
     "output_type": "execute_result"
    }
   ],
   "source": [
    "X_train.describe()"
   ]
  },
  {
   "cell_type": "code",
   "execution_count": 30,
   "metadata": {},
   "outputs": [],
   "source": [
    "model.compile(loss= 'mse',\n",
    "              optimizer= 'adam',\n",
    "              metrics=['mae'])"
   ]
  },
  {
   "cell_type": "code",
   "execution_count": 31,
   "metadata": {},
   "outputs": [
    {
     "name": "stdout",
     "output_type": "stream",
     "text": [
      "Epoch 1/200\n",
      "39/39 - 0s - loss: 32.4337 - mae: 5.6033 - val_loss: 30.1322 - val_mae: 5.3958\n",
      "Epoch 2/200\n",
      "39/39 - 0s - loss: 26.9110 - mae: 5.0730 - val_loss: 22.5856 - val_mae: 4.6370\n",
      "Epoch 3/200\n",
      "39/39 - 0s - loss: 17.7110 - mae: 4.0356 - val_loss: 12.3893 - val_mae: 3.3096\n",
      "Epoch 4/200\n",
      "39/39 - 0s - loss: 8.3717 - mae: 2.5871 - val_loss: 5.0492 - val_mae: 1.9214\n",
      "Epoch 5/200\n",
      "39/39 - 0s - loss: 3.6251 - mae: 1.5478 - val_loss: 2.6104 - val_mae: 1.2678\n",
      "Epoch 6/200\n",
      "39/39 - 0s - loss: 2.3705 - mae: 1.1778 - val_loss: 2.0614 - val_mae: 1.0925\n",
      "Epoch 7/200\n",
      "39/39 - 0s - loss: 2.0594 - mae: 1.0830 - val_loss: 1.8387 - val_mae: 1.0282\n",
      "Epoch 8/200\n",
      "39/39 - 0s - loss: 1.8846 - mae: 1.0306 - val_loss: 1.6896 - val_mae: 0.9817\n",
      "Epoch 9/200\n",
      "39/39 - 0s - loss: 1.7465 - mae: 0.9886 - val_loss: 1.5687 - val_mae: 0.9415\n",
      "Epoch 10/200\n",
      "39/39 - 0s - loss: 1.6340 - mae: 0.9534 - val_loss: 1.4656 - val_mae: 0.9074\n",
      "Epoch 11/200\n",
      "39/39 - 0s - loss: 1.5337 - mae: 0.9202 - val_loss: 1.3767 - val_mae: 0.8763\n",
      "Epoch 12/200\n",
      "39/39 - 0s - loss: 1.4461 - mae: 0.8898 - val_loss: 1.2985 - val_mae: 0.8483\n",
      "Epoch 13/200\n",
      "39/39 - 0s - loss: 1.3653 - mae: 0.8629 - val_loss: 1.2293 - val_mae: 0.8230\n",
      "Epoch 14/200\n",
      "39/39 - 0s - loss: 1.2952 - mae: 0.8372 - val_loss: 1.1665 - val_mae: 0.7988\n",
      "Epoch 15/200\n",
      "39/39 - 0s - loss: 1.2308 - mae: 0.8128 - val_loss: 1.1104 - val_mae: 0.7760\n",
      "Epoch 16/200\n",
      "39/39 - 0s - loss: 1.1751 - mae: 0.7914 - val_loss: 1.0624 - val_mae: 0.7557\n",
      "Epoch 17/200\n",
      "39/39 - 0s - loss: 1.1250 - mae: 0.7720 - val_loss: 1.0203 - val_mae: 0.7381\n",
      "Epoch 18/200\n",
      "39/39 - 0s - loss: 1.0797 - mae: 0.7540 - val_loss: 0.9830 - val_mae: 0.7219\n",
      "Epoch 19/200\n",
      "39/39 - 0s - loss: 1.0408 - mae: 0.7374 - val_loss: 0.9499 - val_mae: 0.7072\n",
      "Epoch 20/200\n",
      "39/39 - 0s - loss: 1.0040 - mae: 0.7236 - val_loss: 0.9202 - val_mae: 0.6942\n",
      "Epoch 21/200\n",
      "39/39 - 0s - loss: 0.9727 - mae: 0.7096 - val_loss: 0.8953 - val_mae: 0.6834\n",
      "Epoch 22/200\n",
      "39/39 - 0s - loss: 0.9471 - mae: 0.6986 - val_loss: 0.8738 - val_mae: 0.6739\n",
      "Epoch 23/200\n",
      "39/39 - 0s - loss: 0.9249 - mae: 0.6894 - val_loss: 0.8549 - val_mae: 0.6661\n",
      "Epoch 24/200\n",
      "39/39 - 0s - loss: 0.9054 - mae: 0.6808 - val_loss: 0.8387 - val_mae: 0.6598\n",
      "Epoch 25/200\n",
      "39/39 - 0s - loss: 0.8864 - mae: 0.6738 - val_loss: 0.8244 - val_mae: 0.6536\n",
      "Epoch 26/200\n",
      "39/39 - 0s - loss: 0.8712 - mae: 0.6677 - val_loss: 0.8097 - val_mae: 0.6479\n",
      "Epoch 27/200\n",
      "39/39 - 0s - loss: 0.8569 - mae: 0.6631 - val_loss: 0.7975 - val_mae: 0.6436\n",
      "Epoch 28/200\n",
      "39/39 - 0s - loss: 0.8439 - mae: 0.6578 - val_loss: 0.7880 - val_mae: 0.6399\n",
      "Epoch 29/200\n",
      "39/39 - 0s - loss: 0.8315 - mae: 0.6533 - val_loss: 0.7788 - val_mae: 0.6362\n",
      "Epoch 30/200\n",
      "39/39 - 0s - loss: 0.8212 - mae: 0.6500 - val_loss: 0.7689 - val_mae: 0.6322\n",
      "Epoch 31/200\n",
      "39/39 - 0s - loss: 0.8104 - mae: 0.6458 - val_loss: 0.7615 - val_mae: 0.6287\n",
      "Epoch 32/200\n",
      "39/39 - 0s - loss: 0.8013 - mae: 0.6429 - val_loss: 0.7518 - val_mae: 0.6250\n",
      "Epoch 33/200\n",
      "39/39 - 0s - loss: 0.7915 - mae: 0.6389 - val_loss: 0.7450 - val_mae: 0.6223\n",
      "Epoch 34/200\n",
      "39/39 - 0s - loss: 0.7831 - mae: 0.6360 - val_loss: 0.7370 - val_mae: 0.6198\n",
      "Epoch 35/200\n",
      "39/39 - 0s - loss: 0.7752 - mae: 0.6342 - val_loss: 0.7292 - val_mae: 0.6166\n",
      "Epoch 36/200\n",
      "39/39 - 0s - loss: 0.7666 - mae: 0.6304 - val_loss: 0.7222 - val_mae: 0.6138\n",
      "Epoch 37/200\n",
      "39/39 - 0s - loss: 0.7592 - mae: 0.6278 - val_loss: 0.7158 - val_mae: 0.6119\n",
      "Epoch 38/200\n",
      "39/39 - 0s - loss: 0.7513 - mae: 0.6251 - val_loss: 0.7099 - val_mae: 0.6094\n",
      "Epoch 39/200\n",
      "39/39 - 0s - loss: 0.7447 - mae: 0.6226 - val_loss: 0.7031 - val_mae: 0.6067\n",
      "Epoch 40/200\n",
      "39/39 - 0s - loss: 0.7386 - mae: 0.6204 - val_loss: 0.6969 - val_mae: 0.6047\n",
      "Epoch 41/200\n",
      "39/39 - 0s - loss: 0.7328 - mae: 0.6188 - val_loss: 0.6924 - val_mae: 0.6027\n",
      "Epoch 42/200\n",
      "39/39 - 0s - loss: 0.7265 - mae: 0.6167 - val_loss: 0.6845 - val_mae: 0.5999\n",
      "Epoch 43/200\n",
      "39/39 - 0s - loss: 0.7213 - mae: 0.6153 - val_loss: 0.6793 - val_mae: 0.5979\n",
      "Epoch 44/200\n",
      "39/39 - 0s - loss: 0.7144 - mae: 0.6123 - val_loss: 0.6749 - val_mae: 0.5965\n",
      "Epoch 45/200\n",
      "39/39 - 0s - loss: 0.7101 - mae: 0.6116 - val_loss: 0.6686 - val_mae: 0.5950\n",
      "Epoch 46/200\n",
      "39/39 - 0s - loss: 0.7035 - mae: 0.6088 - val_loss: 0.6640 - val_mae: 0.5927\n",
      "Epoch 47/200\n",
      "39/39 - 0s - loss: 0.6978 - mae: 0.6074 - val_loss: 0.6593 - val_mae: 0.5913\n",
      "Epoch 48/200\n",
      "39/39 - 0s - loss: 0.6927 - mae: 0.6047 - val_loss: 0.6534 - val_mae: 0.5895\n",
      "Epoch 49/200\n",
      "39/39 - 0s - loss: 0.6875 - mae: 0.6036 - val_loss: 0.6474 - val_mae: 0.5880\n",
      "Epoch 50/200\n",
      "39/39 - 0s - loss: 0.6826 - mae: 0.6020 - val_loss: 0.6437 - val_mae: 0.5862\n",
      "Epoch 51/200\n",
      "39/39 - 0s - loss: 0.6783 - mae: 0.6000 - val_loss: 0.6372 - val_mae: 0.5842\n",
      "Epoch 52/200\n",
      "39/39 - 0s - loss: 0.6737 - mae: 0.5995 - val_loss: 0.6357 - val_mae: 0.5852\n",
      "Epoch 53/200\n",
      "39/39 - 0s - loss: 0.6685 - mae: 0.5980 - val_loss: 0.6281 - val_mae: 0.5809\n",
      "Epoch 54/200\n",
      "39/39 - 0s - loss: 0.6651 - mae: 0.5958 - val_loss: 0.6258 - val_mae: 0.5813\n",
      "Epoch 55/200\n",
      "39/39 - 0s - loss: 0.6604 - mae: 0.5956 - val_loss: 0.6186 - val_mae: 0.5787\n",
      "Epoch 56/200\n",
      "39/39 - 0s - loss: 0.6583 - mae: 0.5946 - val_loss: 0.6143 - val_mae: 0.5766\n",
      "Epoch 57/200\n",
      "39/39 - 0s - loss: 0.6526 - mae: 0.5924 - val_loss: 0.6105 - val_mae: 0.5756\n",
      "Epoch 58/200\n",
      "39/39 - 0s - loss: 0.6500 - mae: 0.5921 - val_loss: 0.6061 - val_mae: 0.5742\n",
      "Epoch 59/200\n",
      "39/39 - 0s - loss: 0.6447 - mae: 0.5897 - val_loss: 0.6015 - val_mae: 0.5727\n",
      "Epoch 60/200\n",
      "39/39 - 0s - loss: 0.6408 - mae: 0.5889 - val_loss: 0.5962 - val_mae: 0.5710\n",
      "Epoch 61/200\n",
      "39/39 - 0s - loss: 0.6364 - mae: 0.5868 - val_loss: 0.5945 - val_mae: 0.5716\n",
      "Epoch 62/200\n",
      "39/39 - 0s - loss: 0.6345 - mae: 0.5861 - val_loss: 0.5927 - val_mae: 0.5695\n",
      "Epoch 63/200\n",
      "39/39 - 0s - loss: 0.6313 - mae: 0.5852 - val_loss: 0.5882 - val_mae: 0.5692\n",
      "Epoch 64/200\n",
      "39/39 - 0s - loss: 0.6273 - mae: 0.5834 - val_loss: 0.5845 - val_mae: 0.5685\n",
      "Epoch 65/200\n",
      "39/39 - 0s - loss: 0.6230 - mae: 0.5820 - val_loss: 0.5810 - val_mae: 0.5653\n",
      "Epoch 66/200\n",
      "39/39 - 0s - loss: 0.6199 - mae: 0.5810 - val_loss: 0.5778 - val_mae: 0.5648\n",
      "Epoch 67/200\n",
      "39/39 - 0s - loss: 0.6164 - mae: 0.5791 - val_loss: 0.5730 - val_mae: 0.5634\n",
      "Epoch 68/200\n",
      "39/39 - 0s - loss: 0.6135 - mae: 0.5796 - val_loss: 0.5734 - val_mae: 0.5635\n",
      "Epoch 69/200\n",
      "39/39 - 0s - loss: 0.6122 - mae: 0.5799 - val_loss: 0.5688 - val_mae: 0.5611\n",
      "Epoch 70/200\n",
      "39/39 - 0s - loss: 0.6071 - mae: 0.5762 - val_loss: 0.5640 - val_mae: 0.5602\n",
      "Epoch 71/200\n",
      "39/39 - 0s - loss: 0.6051 - mae: 0.5762 - val_loss: 0.5608 - val_mae: 0.5597\n",
      "Epoch 72/200\n",
      "39/39 - 0s - loss: 0.6030 - mae: 0.5747 - val_loss: 0.5583 - val_mae: 0.5584\n",
      "Epoch 73/200\n",
      "39/39 - 0s - loss: 0.5994 - mae: 0.5748 - val_loss: 0.5565 - val_mae: 0.5575\n",
      "Epoch 74/200\n",
      "39/39 - 0s - loss: 0.5992 - mae: 0.5754 - val_loss: 0.5544 - val_mae: 0.5595\n",
      "Epoch 75/200\n",
      "39/39 - 0s - loss: 0.5953 - mae: 0.5736 - val_loss: 0.5511 - val_mae: 0.5570\n",
      "Epoch 76/200\n",
      "39/39 - 0s - loss: 0.5936 - mae: 0.5726 - val_loss: 0.5476 - val_mae: 0.5550\n",
      "Epoch 77/200\n",
      "39/39 - 0s - loss: 0.5889 - mae: 0.5711 - val_loss: 0.5453 - val_mae: 0.5539\n",
      "Epoch 78/200\n",
      "39/39 - 0s - loss: 0.5873 - mae: 0.5700 - val_loss: 0.5441 - val_mae: 0.5546\n",
      "Epoch 79/200\n",
      "39/39 - 0s - loss: 0.5841 - mae: 0.5696 - val_loss: 0.5403 - val_mae: 0.5528\n",
      "Epoch 80/200\n",
      "39/39 - 0s - loss: 0.5815 - mae: 0.5682 - val_loss: 0.5393 - val_mae: 0.5521\n",
      "Epoch 81/200\n",
      "39/39 - 0s - loss: 0.5787 - mae: 0.5674 - val_loss: 0.5375 - val_mae: 0.5523\n",
      "Epoch 82/200\n",
      "39/39 - 0s - loss: 0.5791 - mae: 0.5684 - val_loss: 0.5370 - val_mae: 0.5503\n",
      "Epoch 83/200\n",
      "39/39 - 0s - loss: 0.5765 - mae: 0.5668 - val_loss: 0.5322 - val_mae: 0.5498\n",
      "Epoch 84/200\n",
      "39/39 - 0s - loss: 0.5736 - mae: 0.5651 - val_loss: 0.5300 - val_mae: 0.5490\n",
      "Epoch 85/200\n",
      "39/39 - 0s - loss: 0.5730 - mae: 0.5655 - val_loss: 0.5271 - val_mae: 0.5477\n",
      "Epoch 86/200\n",
      "39/39 - 0s - loss: 0.5685 - mae: 0.5635 - val_loss: 0.5297 - val_mae: 0.5474\n",
      "Epoch 87/200\n",
      "39/39 - 0s - loss: 0.5649 - mae: 0.5628 - val_loss: 0.5246 - val_mae: 0.5463\n",
      "Epoch 88/200\n",
      "39/39 - 0s - loss: 0.5613 - mae: 0.5610 - val_loss: 0.5240 - val_mae: 0.5460\n",
      "Epoch 89/200\n",
      "39/39 - 0s - loss: 0.5657 - mae: 0.5635 - val_loss: 0.5208 - val_mae: 0.5439\n",
      "Epoch 90/200\n",
      "39/39 - 0s - loss: 0.5572 - mae: 0.5597 - val_loss: 0.5195 - val_mae: 0.5449\n",
      "Epoch 91/200\n",
      "39/39 - 0s - loss: 0.5581 - mae: 0.5601 - val_loss: 0.5155 - val_mae: 0.5430\n",
      "Epoch 92/200\n"
     ]
    },
    {
     "name": "stdout",
     "output_type": "stream",
     "text": [
      "39/39 - 0s - loss: 0.5540 - mae: 0.5587 - val_loss: 0.5173 - val_mae: 0.5429\n",
      "Epoch 93/200\n",
      "39/39 - 0s - loss: 0.5531 - mae: 0.5588 - val_loss: 0.5113 - val_mae: 0.5413\n",
      "Epoch 94/200\n",
      "39/39 - 0s - loss: 0.5530 - mae: 0.5590 - val_loss: 0.5134 - val_mae: 0.5426\n",
      "Epoch 95/200\n",
      "39/39 - 0s - loss: 0.5490 - mae: 0.5569 - val_loss: 0.5093 - val_mae: 0.5418\n",
      "Epoch 96/200\n",
      "39/39 - 0s - loss: 0.5465 - mae: 0.5549 - val_loss: 0.5134 - val_mae: 0.5420\n",
      "Epoch 97/200\n",
      "39/39 - 0s - loss: 0.5475 - mae: 0.5566 - val_loss: 0.5075 - val_mae: 0.5417\n",
      "Epoch 98/200\n",
      "39/39 - 0s - loss: 0.5437 - mae: 0.5539 - val_loss: 0.5085 - val_mae: 0.5406\n",
      "Epoch 99/200\n",
      "39/39 - 0s - loss: 0.5430 - mae: 0.5541 - val_loss: 0.5046 - val_mae: 0.5404\n",
      "Epoch 100/200\n",
      "39/39 - 0s - loss: 0.5418 - mae: 0.5550 - val_loss: 0.5045 - val_mae: 0.5416\n",
      "Epoch 101/200\n",
      "39/39 - 0s - loss: 0.5398 - mae: 0.5538 - val_loss: 0.5015 - val_mae: 0.5384\n",
      "Epoch 102/200\n",
      "39/39 - 0s - loss: 0.5399 - mae: 0.5540 - val_loss: 0.5020 - val_mae: 0.5398\n",
      "Epoch 103/200\n",
      "39/39 - 0s - loss: 0.5375 - mae: 0.5530 - val_loss: 0.5013 - val_mae: 0.5378\n",
      "Epoch 104/200\n",
      "39/39 - 0s - loss: 0.5377 - mae: 0.5527 - val_loss: 0.5023 - val_mae: 0.5388\n",
      "Epoch 105/200\n",
      "39/39 - 0s - loss: 0.5376 - mae: 0.5526 - val_loss: 0.4977 - val_mae: 0.5377\n",
      "Epoch 106/200\n",
      "39/39 - 0s - loss: 0.5340 - mae: 0.5511 - val_loss: 0.4961 - val_mae: 0.5376\n",
      "Epoch 107/200\n",
      "39/39 - 0s - loss: 0.5336 - mae: 0.5511 - val_loss: 0.4960 - val_mae: 0.5368\n",
      "Epoch 108/200\n",
      "39/39 - 0s - loss: 0.5328 - mae: 0.5513 - val_loss: 0.4958 - val_mae: 0.5378\n",
      "Epoch 109/200\n",
      "39/39 - 0s - loss: 0.5331 - mae: 0.5526 - val_loss: 0.4942 - val_mae: 0.5367\n",
      "Epoch 110/200\n",
      "39/39 - 0s - loss: 0.5316 - mae: 0.5509 - val_loss: 0.4932 - val_mae: 0.5356\n",
      "Epoch 111/200\n",
      "39/39 - 0s - loss: 0.5293 - mae: 0.5504 - val_loss: 0.4921 - val_mae: 0.5348\n",
      "Epoch 112/200\n",
      "39/39 - 0s - loss: 0.5284 - mae: 0.5488 - val_loss: 0.4917 - val_mae: 0.5351\n",
      "Epoch 113/200\n",
      "39/39 - 0s - loss: 0.5284 - mae: 0.5504 - val_loss: 0.4916 - val_mae: 0.5345\n",
      "Epoch 114/200\n",
      "39/39 - 0s - loss: 0.5282 - mae: 0.5508 - val_loss: 0.4906 - val_mae: 0.5353\n",
      "Epoch 115/200\n",
      "39/39 - 0s - loss: 0.5280 - mae: 0.5498 - val_loss: 0.4930 - val_mae: 0.5354\n",
      "Epoch 116/200\n",
      "39/39 - 0s - loss: 0.5281 - mae: 0.5510 - val_loss: 0.4887 - val_mae: 0.5358\n",
      "Epoch 117/200\n",
      "39/39 - 0s - loss: 0.5265 - mae: 0.5502 - val_loss: 0.4895 - val_mae: 0.5355\n",
      "Epoch 118/200\n",
      "39/39 - 0s - loss: 0.5225 - mae: 0.5475 - val_loss: 0.4869 - val_mae: 0.5333\n",
      "Epoch 119/200\n",
      "39/39 - 0s - loss: 0.5224 - mae: 0.5476 - val_loss: 0.4870 - val_mae: 0.5348\n",
      "Epoch 120/200\n",
      "39/39 - 0s - loss: 0.5225 - mae: 0.5480 - val_loss: 0.4849 - val_mae: 0.5344\n",
      "Epoch 121/200\n",
      "39/39 - 0s - loss: 0.5228 - mae: 0.5482 - val_loss: 0.4870 - val_mae: 0.5352\n",
      "Epoch 122/200\n",
      "39/39 - 0s - loss: 0.5193 - mae: 0.5465 - val_loss: 0.4840 - val_mae: 0.5346\n",
      "Epoch 123/200\n",
      "39/39 - 0s - loss: 0.5182 - mae: 0.5463 - val_loss: 0.4850 - val_mae: 0.5344\n",
      "Epoch 124/200\n",
      "39/39 - 0s - loss: 0.5180 - mae: 0.5455 - val_loss: 0.4833 - val_mae: 0.5342\n",
      "Epoch 125/200\n",
      "39/39 - 0s - loss: 0.5194 - mae: 0.5467 - val_loss: 0.4824 - val_mae: 0.5335\n",
      "Epoch 126/200\n",
      "39/39 - 0s - loss: 0.5182 - mae: 0.5459 - val_loss: 0.4821 - val_mae: 0.5340\n",
      "Epoch 127/200\n",
      "39/39 - 0s - loss: 0.5187 - mae: 0.5478 - val_loss: 0.4829 - val_mae: 0.5355\n",
      "Epoch 128/200\n",
      "39/39 - 0s - loss: 0.5199 - mae: 0.5492 - val_loss: 0.4817 - val_mae: 0.5351\n",
      "Epoch 129/200\n",
      "39/39 - 0s - loss: 0.5159 - mae: 0.5451 - val_loss: 0.4787 - val_mae: 0.5308\n",
      "Epoch 130/200\n",
      "39/39 - 0s - loss: 0.5150 - mae: 0.5454 - val_loss: 0.4780 - val_mae: 0.5324\n",
      "Epoch 131/200\n",
      "39/39 - 0s - loss: 0.5141 - mae: 0.5446 - val_loss: 0.4792 - val_mae: 0.5328\n",
      "Epoch 132/200\n",
      "39/39 - 0s - loss: 0.5163 - mae: 0.5464 - val_loss: 0.4829 - val_mae: 0.5336\n",
      "Epoch 133/200\n",
      "39/39 - 0s - loss: 0.5121 - mae: 0.5437 - val_loss: 0.4783 - val_mae: 0.5313\n",
      "Epoch 134/200\n",
      "39/39 - 0s - loss: 0.5146 - mae: 0.5454 - val_loss: 0.4784 - val_mae: 0.5332\n",
      "Epoch 135/200\n",
      "39/39 - 0s - loss: 0.5146 - mae: 0.5446 - val_loss: 0.4771 - val_mae: 0.5314\n",
      "Epoch 136/200\n",
      "39/39 - 0s - loss: 0.5116 - mae: 0.5441 - val_loss: 0.4766 - val_mae: 0.5320\n",
      "Epoch 137/200\n",
      "39/39 - 0s - loss: 0.5140 - mae: 0.5455 - val_loss: 0.4729 - val_mae: 0.5303\n",
      "Epoch 138/200\n",
      "39/39 - 0s - loss: 0.5109 - mae: 0.5425 - val_loss: 0.4747 - val_mae: 0.5295\n",
      "Epoch 139/200\n",
      "39/39 - 0s - loss: 0.5109 - mae: 0.5439 - val_loss: 0.4759 - val_mae: 0.5322\n",
      "Epoch 140/200\n",
      "39/39 - 0s - loss: 0.5122 - mae: 0.5438 - val_loss: 0.4720 - val_mae: 0.5302\n",
      "Epoch 141/200\n",
      "39/39 - 0s - loss: 0.5100 - mae: 0.5430 - val_loss: 0.4748 - val_mae: 0.5313\n",
      "Epoch 142/200\n",
      "39/39 - 0s - loss: 0.5092 - mae: 0.5429 - val_loss: 0.4747 - val_mae: 0.5327\n",
      "Epoch 143/200\n",
      "39/39 - 0s - loss: 0.5090 - mae: 0.5416 - val_loss: 0.4737 - val_mae: 0.5330\n",
      "Epoch 144/200\n",
      "39/39 - 0s - loss: 0.5075 - mae: 0.5418 - val_loss: 0.4713 - val_mae: 0.5304\n",
      "Epoch 145/200\n",
      "39/39 - 0s - loss: 0.5120 - mae: 0.5465 - val_loss: 0.4743 - val_mae: 0.5301\n",
      "Epoch 146/200\n",
      "39/39 - 0s - loss: 0.5085 - mae: 0.5416 - val_loss: 0.4712 - val_mae: 0.5294\n",
      "Epoch 147/200\n",
      "39/39 - 0s - loss: 0.5086 - mae: 0.5412 - val_loss: 0.4687 - val_mae: 0.5280\n",
      "Epoch 148/200\n",
      "39/39 - 0s - loss: 0.5062 - mae: 0.5401 - val_loss: 0.4710 - val_mae: 0.5305\n",
      "Epoch 149/200\n",
      "39/39 - 0s - loss: 0.5080 - mae: 0.5420 - val_loss: 0.4691 - val_mae: 0.5290\n",
      "Epoch 150/200\n",
      "39/39 - 0s - loss: 0.5058 - mae: 0.5407 - val_loss: 0.4694 - val_mae: 0.5286\n",
      "Epoch 151/200\n",
      "39/39 - 0s - loss: 0.5046 - mae: 0.5398 - val_loss: 0.4701 - val_mae: 0.5292\n",
      "Epoch 152/200\n",
      "39/39 - 0s - loss: 0.5076 - mae: 0.5412 - val_loss: 0.4668 - val_mae: 0.5278\n",
      "Epoch 153/200\n",
      "39/39 - 0s - loss: 0.5063 - mae: 0.5397 - val_loss: 0.4651 - val_mae: 0.5266\n",
      "Epoch 154/200\n",
      "39/39 - 0s - loss: 0.5040 - mae: 0.5396 - val_loss: 0.4680 - val_mae: 0.5262\n",
      "Epoch 155/200\n",
      "39/39 - 0s - loss: 0.5074 - mae: 0.5402 - val_loss: 0.4664 - val_mae: 0.5249\n",
      "Epoch 156/200\n",
      "39/39 - 0s - loss: 0.5022 - mae: 0.5379 - val_loss: 0.4652 - val_mae: 0.5272\n",
      "Epoch 157/200\n",
      "39/39 - 0s - loss: 0.5040 - mae: 0.5399 - val_loss: 0.4629 - val_mae: 0.5256\n",
      "Epoch 158/200\n",
      "39/39 - 0s - loss: 0.5016 - mae: 0.5379 - val_loss: 0.4666 - val_mae: 0.5261\n",
      "Epoch 159/200\n",
      "39/39 - 0s - loss: 0.5018 - mae: 0.5385 - val_loss: 0.4622 - val_mae: 0.5249\n",
      "Epoch 160/200\n",
      "39/39 - 0s - loss: 0.5001 - mae: 0.5376 - val_loss: 0.4626 - val_mae: 0.5252\n",
      "Epoch 161/200\n",
      "39/39 - 0s - loss: 0.5030 - mae: 0.5393 - val_loss: 0.4624 - val_mae: 0.5243\n",
      "Epoch 162/200\n",
      "39/39 - 0s - loss: 0.5010 - mae: 0.5374 - val_loss: 0.4611 - val_mae: 0.5244\n",
      "Epoch 163/200\n",
      "39/39 - 0s - loss: 0.4991 - mae: 0.5372 - val_loss: 0.4609 - val_mae: 0.5236\n",
      "Epoch 164/200\n",
      "39/39 - 0s - loss: 0.4991 - mae: 0.5374 - val_loss: 0.4602 - val_mae: 0.5238\n",
      "Epoch 165/200\n",
      "39/39 - 0s - loss: 0.5012 - mae: 0.5380 - val_loss: 0.4606 - val_mae: 0.5229\n",
      "Epoch 166/200\n",
      "39/39 - 0s - loss: 0.4993 - mae: 0.5374 - val_loss: 0.4596 - val_mae: 0.5245\n",
      "Epoch 167/200\n",
      "39/39 - 0s - loss: 0.4983 - mae: 0.5364 - val_loss: 0.4618 - val_mae: 0.5231\n",
      "Epoch 168/200\n",
      "39/39 - 0s - loss: 0.4975 - mae: 0.5358 - val_loss: 0.4591 - val_mae: 0.5223\n",
      "Epoch 169/200\n",
      "39/39 - 0s - loss: 0.4962 - mae: 0.5355 - val_loss: 0.4575 - val_mae: 0.5224\n",
      "Epoch 170/200\n",
      "39/39 - 0s - loss: 0.4979 - mae: 0.5378 - val_loss: 0.4604 - val_mae: 0.5252\n",
      "Epoch 171/200\n",
      "39/39 - 0s - loss: 0.5009 - mae: 0.5395 - val_loss: 0.4620 - val_mae: 0.5267\n",
      "Epoch 172/200\n",
      "39/39 - 0s - loss: 0.4964 - mae: 0.5368 - val_loss: 0.4579 - val_mae: 0.5224\n",
      "Epoch 173/200\n",
      "39/39 - 0s - loss: 0.4953 - mae: 0.5354 - val_loss: 0.4602 - val_mae: 0.5230\n",
      "Epoch 174/200\n",
      "39/39 - 0s - loss: 0.4977 - mae: 0.5353 - val_loss: 0.4608 - val_mae: 0.5234\n",
      "Epoch 175/200\n",
      "39/39 - 0s - loss: 0.4984 - mae: 0.5374 - val_loss: 0.4598 - val_mae: 0.5216\n",
      "Epoch 176/200\n",
      "39/39 - 0s - loss: 0.4973 - mae: 0.5364 - val_loss: 0.4637 - val_mae: 0.5263\n",
      "Epoch 177/200\n",
      "39/39 - 0s - loss: 0.5004 - mae: 0.5384 - val_loss: 0.4563 - val_mae: 0.5229\n",
      "Epoch 178/200\n",
      "39/39 - 0s - loss: 0.4961 - mae: 0.5350 - val_loss: 0.4549 - val_mae: 0.5212\n",
      "Epoch 179/200\n",
      "39/39 - 0s - loss: 0.4941 - mae: 0.5355 - val_loss: 0.4593 - val_mae: 0.5251\n",
      "Epoch 180/200\n",
      "39/39 - 0s - loss: 0.4957 - mae: 0.5361 - val_loss: 0.4564 - val_mae: 0.5219\n",
      "Epoch 181/200\n",
      "39/39 - 0s - loss: 0.4949 - mae: 0.5352 - val_loss: 0.4565 - val_mae: 0.5211\n",
      "Epoch 182/200\n",
      "39/39 - 0s - loss: 0.4952 - mae: 0.5353 - val_loss: 0.4547 - val_mae: 0.5208\n"
     ]
    },
    {
     "name": "stdout",
     "output_type": "stream",
     "text": [
      "Epoch 183/200\n",
      "39/39 - 0s - loss: 0.4943 - mae: 0.5344 - val_loss: 0.4559 - val_mae: 0.5219\n",
      "Epoch 184/200\n",
      "39/39 - 0s - loss: 0.4948 - mae: 0.5356 - val_loss: 0.4548 - val_mae: 0.5200\n",
      "Epoch 185/200\n",
      "39/39 - 0s - loss: 0.4923 - mae: 0.5330 - val_loss: 0.4591 - val_mae: 0.5234\n",
      "Epoch 186/200\n",
      "39/39 - 0s - loss: 0.4962 - mae: 0.5359 - val_loss: 0.4578 - val_mae: 0.5231\n",
      "Epoch 187/200\n",
      "39/39 - 0s - loss: 0.4939 - mae: 0.5354 - val_loss: 0.4550 - val_mae: 0.5206\n",
      "Epoch 188/200\n",
      "39/39 - 0s - loss: 0.4958 - mae: 0.5357 - val_loss: 0.4562 - val_mae: 0.5213\n",
      "Epoch 189/200\n",
      "39/39 - 0s - loss: 0.4938 - mae: 0.5349 - val_loss: 0.4523 - val_mae: 0.5207\n",
      "Epoch 190/200\n",
      "39/39 - 0s - loss: 0.4935 - mae: 0.5352 - val_loss: 0.4562 - val_mae: 0.5199\n",
      "Epoch 191/200\n",
      "39/39 - 0s - loss: 0.4953 - mae: 0.5348 - val_loss: 0.4546 - val_mae: 0.5193\n",
      "Epoch 192/200\n",
      "39/39 - 0s - loss: 0.4907 - mae: 0.5333 - val_loss: 0.4556 - val_mae: 0.5219\n",
      "Epoch 193/200\n",
      "39/39 - 0s - loss: 0.4924 - mae: 0.5337 - val_loss: 0.4551 - val_mae: 0.5241\n",
      "Epoch 194/200\n",
      "39/39 - 0s - loss: 0.4942 - mae: 0.5355 - val_loss: 0.4585 - val_mae: 0.5216\n",
      "Epoch 195/200\n",
      "39/39 - 0s - loss: 0.4942 - mae: 0.5344 - val_loss: 0.4528 - val_mae: 0.5203\n",
      "Epoch 196/200\n",
      "39/39 - 0s - loss: 0.4914 - mae: 0.5337 - val_loss: 0.4566 - val_mae: 0.5240\n",
      "Epoch 197/200\n",
      "39/39 - 0s - loss: 0.4953 - mae: 0.5353 - val_loss: 0.4546 - val_mae: 0.5232\n",
      "Epoch 198/200\n",
      "39/39 - 0s - loss: 0.4934 - mae: 0.5364 - val_loss: 0.4556 - val_mae: 0.5234\n",
      "Epoch 199/200\n",
      "39/39 - 0s - loss: 0.4933 - mae: 0.5350 - val_loss: 0.4535 - val_mae: 0.5209\n",
      "Epoch 200/200\n",
      "39/39 - 0s - loss: 0.4913 - mae: 0.5336 - val_loss: 0.4536 - val_mae: 0.5200\n"
     ]
    }
   ],
   "source": [
    "history = model.fit(X_train, y_train, validation_data=(X_test, y_test), epochs=200, batch_size=128, verbose=2)"
   ]
  },
  {
   "cell_type": "code",
   "execution_count": 32,
   "metadata": {},
   "outputs": [
    {
     "name": "stdout",
     "output_type": "stream",
     "text": [
      "204/204 [==============================] - 0s 844us/step - loss: 0.4901 - mae: 0.5351\n"
     ]
    },
    {
     "data": {
      "text/plain": [
       "<keras.callbacks.History at 0x7fc6b4571850>"
      ]
     },
     "execution_count": 32,
     "metadata": {},
     "output_type": "execute_result"
    }
   ],
   "source": [
    "model.fit(X_trans, y)"
   ]
  },
  {
   "cell_type": "code",
   "execution_count": 33,
   "metadata": {},
   "outputs": [
    {
     "name": "stdout",
     "output_type": "stream",
     "text": [
      "39/39 - 0s - loss: 0.4487 - mae: 0.5184\n"
     ]
    },
    {
     "data": {
      "text/plain": [
       "[0.4486977458000183, 0.5184222459793091]"
      ]
     },
     "execution_count": 33,
     "metadata": {},
     "output_type": "execute_result"
    }
   ],
   "source": [
    "score = model.evaluate(X_test,y_test,batch_size=42,verbose=2)\n",
    "score"
   ]
  },
  {
   "cell_type": "code",
   "execution_count": 34,
   "metadata": {},
   "outputs": [
    {
     "data": {
      "image/png": "[encoded data removed]",
      "text/plain": [
       "<Figure size 432x288 with 1 Axes>"
      ]
     },
     "metadata": {
      "needs_background": "light"
     },
     "output_type": "display_data"
    }
   ],
   "source": [
    "from matplotlib import pyplot\n",
    "pyplot.title('Loss / Mean Squared Error')\n",
    "pyplot.plot(history.history['loss'], label='train_loss')\n",
    "pyplot.plot(history.history['val_loss'], label='train_val')\n",
    "pyplot.legend()\n",
    "pyplot.show()"
   ]
  },
  {
   "cell_type": "code",
   "execution_count": 35,
   "metadata": {},
   "outputs": [],
   "source": [
    "y_pred = model.predict(X_test)"
   ]
  },
  {
   "cell_type": "code",
   "execution_count": 36,
   "metadata": {},
   "outputs": [
    {
     "data": {
      "text/plain": [
       "array([[6.],\n",
       "       [5.],\n",
       "       [6.],\n",
       "       ...,\n",
       "       [5.],\n",
       "       [6.],\n",
       "       [7.]], dtype=float32)"
      ]
     },
     "execution_count": 36,
     "metadata": {},
     "output_type": "execute_result"
    }
   ],
   "source": [
    "y_pred.round()"
   ]
  },
  {
   "cell_type": "code",
   "execution_count": 37,
   "metadata": {},
   "outputs": [
    {
     "data": {
      "text/plain": [
       "2448    6\n",
       "2918    5\n",
       "4884    7\n",
       "6245    7\n",
       "3821    7\n",
       "       ..\n",
       "4738    6\n",
       "1995    5\n",
       "2912    5\n",
       "6450    5\n",
       "4624    7\n",
       "Name: quality, Length: 1625, dtype: int64"
      ]
     },
     "execution_count": 37,
     "metadata": {},
     "output_type": "execute_result"
    }
   ],
   "source": [
    "y_test"
   ]
  },
  {
   "cell_type": "code",
   "execution_count": 38,
   "metadata": {},
   "outputs": [],
   "source": [
    "from sklearn.metrics import explained_variance_score, mean_squared_error, r2_score"
   ]
  },
  {
   "cell_type": "code",
   "execution_count": 39,
   "metadata": {},
   "outputs": [
    {
     "data": {
      "text/plain": [
       "0.2614764581249208"
      ]
     },
     "execution_count": 39,
     "metadata": {},
     "output_type": "execute_result"
    }
   ],
   "source": [
    "explained_variance_score(y_test,y_pred.round())"
   ]
  },
  {
   "cell_type": "code",
   "execution_count": 40,
   "metadata": {},
   "outputs": [
    {
     "data": {
      "text/plain": [
       "0.5261538461538462"
      ]
     },
     "execution_count": 40,
     "metadata": {},
     "output_type": "execute_result"
    }
   ],
   "source": [
    "mean_squared_error(y_test,y_pred.round())"
   ]
  },
  {
   "cell_type": "code",
   "execution_count": 41,
   "metadata": {},
   "outputs": [
    {
     "data": {
      "text/plain": [
       "0.26147592657363095"
      ]
     },
     "execution_count": 41,
     "metadata": {},
     "output_type": "execute_result"
    }
   ],
   "source": [
    "r2_score(y_test,y_pred.round())"
   ]
  },
  {
   "cell_type": "code",
   "execution_count": null,
   "metadata": {},
   "outputs": [],
   "source": []
  }
 ],
 "metadata": {
  "kernelspec": {
   "display_name": "Python 3",
   "language": "python",
   "name": "python3"
  },
  "language_info": {
   "codemirror_mode": {
    "name": "ipython",
    "version": 3
   },
   "file_extension": ".py",
   "mimetype": "text/x-python",
   "name": "python",
   "nbconvert_exporter": "python",
   "pygments_lexer": "ipython3",
   "version": "3.8.5"
  }
 },
 "nbformat": 4,
 "nbformat_minor": 4
}
